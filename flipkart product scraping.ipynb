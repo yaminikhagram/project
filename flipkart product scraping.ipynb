{
 "cells": [
  {
   "cell_type": "code",
   "execution_count": 1,
   "id": "ac672794",
   "metadata": {
    "scrolled": true
   },
   "outputs": [
    {
     "name": "stdout",
     "output_type": "stream",
     "text": [
      "Requirement already satisfied: autoscraper in c:\\users\\hp\\anaconda3\\lib\\site-packages (1.1.14)\n",
      "Requirement already satisfied: lxml in c:\\users\\hp\\anaconda3\\lib\\site-packages (from autoscraper) (4.9.1)\n",
      "Requirement already satisfied: bs4 in c:\\users\\hp\\anaconda3\\lib\\site-packages (from autoscraper) (0.0.1)\n",
      "Requirement already satisfied: requests in c:\\users\\hp\\anaconda3\\lib\\site-packages (from autoscraper) (2.28.1)\n",
      "Requirement already satisfied: beautifulsoup4 in c:\\users\\hp\\anaconda3\\lib\\site-packages (from bs4->autoscraper) (4.11.1)\n",
      "Requirement already satisfied: certifi>=2017.4.17 in c:\\users\\hp\\anaconda3\\lib\\site-packages (from requests->autoscraper) (2022.12.7)\n",
      "Requirement already satisfied: idna<4,>=2.5 in c:\\users\\hp\\anaconda3\\lib\\site-packages (from requests->autoscraper) (3.4)\n",
      "Requirement already satisfied: charset-normalizer<3,>=2 in c:\\users\\hp\\anaconda3\\lib\\site-packages (from requests->autoscraper) (2.0.4)\n",
      "Requirement already satisfied: urllib3<1.27,>=1.21.1 in c:\\users\\hp\\anaconda3\\lib\\site-packages (from requests->autoscraper) (1.26.14)\n",
      "Requirement already satisfied: soupsieve>1.2 in c:\\users\\hp\\anaconda3\\lib\\site-packages (from beautifulsoup4->bs4->autoscraper) (2.3.2.post1)\n"
     ]
    }
   ],
   "source": [
    "##download the module for the web scrapping\n",
    "\n",
    "!pip install autoscraper"
   ]
  },
  {
   "cell_type": "code",
   "execution_count": 2,
   "id": "b6559f72",
   "metadata": {},
   "outputs": [],
   "source": [
    "##import the web scraping library \n",
    "\n",
    "from autoscraper import AutoScraper"
   ]
  },
  {
   "cell_type": "code",
   "execution_count": 3,
   "id": "4b8a6add",
   "metadata": {},
   "outputs": [],
   "source": [
    "##copy the url of product which u want to scrape the data \n",
    "\n",
    "flipkart_url=\"https://www.flipkart.com/search?q=samsung+mobiles&sid=tyy%2C4io&as=on&as-show=on&otracker=AS_QueryStore_OrganicAutoSuggest_1_3_na_na_na&otracker1=AS_QueryStore_OrganicAutoSuggest_1_3_na_na_na&as-pos=1&as-type=RECENT&suggestionId=samsung+mobiles%7CMobiles&requestId=ba15f2e1-02bf-44b5-980e-c97bed59eafa&as-backfill=onf\"\n",
    "\n",
    "##make a list of data which u wanted after scraping\n",
    "\n",
    "wanted_list=[\"SAMSUNG Galaxy S21 FE 5G (Graphite, 128 GB) \",'₹29,999']"
   ]
  },
  {
   "cell_type": "code",
   "execution_count": 4,
   "id": "7fa53063",
   "metadata": {},
   "outputs": [],
   "source": [
    "#call and save the function in the variable name scrapper\n",
    "scraper =AutoScraper()"
   ]
  },
  {
   "cell_type": "code",
   "execution_count": 5,
   "id": "f2058ef0",
   "metadata": {},
   "outputs": [
    {
     "name": "stdout",
     "output_type": "stream",
     "text": [
      "['SAMSUNG Galaxy S21 FE 5G (Graphite, 128 GB)', 'SAMSUNG Galaxy F04 (Opal Green, 64 GB)', 'SAMSUNG Galaxy F14 5G (B.A.E. Purple, 128 GB)', 'Samsung Galaxy S21 FE 5G with Snapdragon 888 (Graphite, 128 GB)', 'Samsung Galaxy S21 FE 5G with Snapdragon 888 (Olive, 128 GB)', 'SAMSUNG Galaxy S21 FE 5G (Lavender, 128 GB)', 'Samsung Galaxy S21 FE 5G with Snapdragon 888 (Lavender, 128 GB)', 'Samsung Galaxy S21 FE 5G with Snapdragon 888 (Navy, 128 GB)', 'SAMSUNG Galaxy F14 5G (OMG Black, 128 GB)', 'SAMSUNG Galaxy F04 (Jade Purple, 64 GB)', 'SAMSUNG Galaxy F34 5G (Electric Black, 128 GB)', 'SAMSUNG Galaxy F34 5G (Mystic Green, 128 GB)', 'SAMSUNG Galaxy F13 (Waterfall Blue, 128 GB)', 'SAMSUNG Galaxy F14 5G (GOAT Green, 128 GB)', 'SAMSUNG Galaxy M14 5G (Smoky Teal, 128 GB)', 'SAMSUNG Galaxy F34 5G (Orchid Violet, 128 GB)', 'SAMSUNG Galaxy F13 (Waterfall Blue, 64 GB)', 'SAMSUNG Galaxy S22 5G (Green, 128 GB)', 'SAMSUNG Galaxy A34 5G (Awesome Violet, 256 GB)', 'SAMSUNG Galaxy F54 5G (Stardust Silver, 256 GB)', '₹17,999', '₹29,999', '₹6,499', '₹11,490', '₹32,499', '₹12,490', '₹31,999', '₹15,999', '₹9,999', '₹13,778', '₹8,999', '₹39,999', '₹24,999']\n"
     ]
    }
   ],
   "source": [
    "#save the data scraped from the website in the variable result\n",
    "result=scraper.build(flipkart_url,wanted_list)\n",
    "print(result)"
   ]
  },
  {
   "cell_type": "code",
   "execution_count": 6,
   "id": "087c0cb3",
   "metadata": {},
   "outputs": [
    {
     "data": {
      "text/plain": [
       "{'rule_xbrk': ['SAMSUNG Galaxy S21 FE 5G (Graphite, 128 GB)',\n",
       "  'SAMSUNG Galaxy S21 FE 5G (Olive Green, 128 GB)',\n",
       "  'SAMSUNG Galaxy S21 FE 5G (Lavender, 128 GB)',\n",
       "  'SAMSUNG Galaxy F04 (Opal Green, 64 GB)',\n",
       "  'SAMSUNG Galaxy F14 5G (B.A.E. Purple, 128 GB)',\n",
       "  'SAMSUNG Galaxy F34 5G (Electric Black, 128 GB)',\n",
       "  'SAMSUNG Galaxy F34 5G (Mystic Green, 128 GB)',\n",
       "  'SAMSUNG Galaxy F34 5G (Orchid Violet, 128 GB)',\n",
       "  'SAMSUNG Galaxy F14 5G (OMG Black, 128 GB)',\n",
       "  'Samsung Galaxy S21 FE 5G with Snapdragon 888 (Olive, 128 GB)',\n",
       "  'SAMSUNG Galaxy F14 5G (B.A.E. Purple, 128 GB)',\n",
       "  'SAMSUNG Galaxy F04 (Jade Purple, 64 GB)',\n",
       "  'Samsung Galaxy S21 FE 5G with Snapdragon 888 (Lavender, 128 GB)',\n",
       "  'SAMSUNG Galaxy F54 5G (Stardust Silver, 256 GB)',\n",
       "  'SAMSUNG Galaxy F34 5G (Electric Black, 128 GB)',\n",
       "  'SAMSUNG Galaxy M14 5G (Smoky Teal, 128 GB)',\n",
       "  'SAMSUNG Galaxy F14 5G (GOAT Green, 128 GB)',\n",
       "  'Samsung Galaxy S21 FE 5G with Snapdragon 888 (Graphite, 128 GB)',\n",
       "  'SAMSUNG Galaxy F14 5G (OMG Black, 128 GB)',\n",
       "  'Samsung Galaxy S21 FE 5G with Snapdragon 888 (Navy, 128 GB)',\n",
       "  'SAMSUNG Galaxy S22 5G (Green, 128 GB)',\n",
       "  'SAMSUNG Galaxy F14 5G (GOAT Green, 128 GB)',\n",
       "  'SAMSUNG Galaxy F34 5G (Mystic Green, 128 GB)',\n",
       "  'SAMSUNG Galaxy F13 (Waterfall Blue, 128 GB)'],\n",
       " 'rule_lyje': ['SAMSUNG Galaxy S21 FE 5G (Graphite, 128 GB)',\n",
       "  'SAMSUNG Galaxy S21 FE 5G (Olive Green, 128 GB)',\n",
       "  'SAMSUNG Galaxy S21 FE 5G (Lavender, 128 GB)',\n",
       "  'SAMSUNG Galaxy F04 (Opal Green, 64 GB)',\n",
       "  'SAMSUNG Galaxy F14 5G (B.A.E. Purple, 128 GB)',\n",
       "  'SAMSUNG Galaxy F34 5G (Electric Black, 128 GB)',\n",
       "  'SAMSUNG Galaxy F34 5G (Mystic Green, 128 GB)',\n",
       "  'SAMSUNG Galaxy F34 5G (Orchid Violet, 128 GB)',\n",
       "  'SAMSUNG Galaxy F14 5G (OMG Black, 128 GB)',\n",
       "  'Samsung Galaxy S21 FE 5G with Snapdragon 888 (Olive, 128 GB)',\n",
       "  'SAMSUNG Galaxy F14 5G (B.A.E. Purple, 128 GB)',\n",
       "  'SAMSUNG Galaxy F04 (Jade Purple, 64 GB)',\n",
       "  'Samsung Galaxy S21 FE 5G with Snapdragon 888 (Lavender, 128 GB)',\n",
       "  'SAMSUNG Galaxy F54 5G (Stardust Silver, 256 GB)',\n",
       "  'SAMSUNG Galaxy F34 5G (Electric Black, 128 GB)',\n",
       "  'SAMSUNG Galaxy M14 5G (Smoky Teal, 128 GB)',\n",
       "  'SAMSUNG Galaxy F14 5G (GOAT Green, 128 GB)',\n",
       "  'Samsung Galaxy S21 FE 5G with Snapdragon 888 (Graphite, 128 GB)',\n",
       "  'SAMSUNG Galaxy F14 5G (OMG Black, 128 GB)',\n",
       "  'Samsung Galaxy S21 FE 5G with Snapdragon 888 (Navy, 128 GB)',\n",
       "  'SAMSUNG Galaxy S22 5G (Green, 128 GB)',\n",
       "  'SAMSUNG Galaxy F14 5G (GOAT Green, 128 GB)',\n",
       "  'SAMSUNG Galaxy F34 5G (Mystic Green, 128 GB)',\n",
       "  'SAMSUNG Galaxy F13 (Waterfall Blue, 128 GB)'],\n",
       " 'rule_nk45': ['₹6,499', '₹11,490', '₹32,499', '₹17,999', '₹24,999'],\n",
       " 'rule_1k5g': ['₹29,999',\n",
       "  '₹29,999',\n",
       "  '₹29,999',\n",
       "  '₹6,499',\n",
       "  '₹12,490',\n",
       "  '₹15,999',\n",
       "  '₹15,999',\n",
       "  '₹15,999',\n",
       "  '₹12,490',\n",
       "  '₹32,499',\n",
       "  '₹11,490',\n",
       "  '₹6,499',\n",
       "  '₹32,499',\n",
       "  '₹24,999',\n",
       "  '₹17,999',\n",
       "  '₹13,778',\n",
       "  '₹12,490',\n",
       "  '₹32,499',\n",
       "  '₹11,490',\n",
       "  '₹31,999',\n",
       "  '₹39,999',\n",
       "  '₹11,490',\n",
       "  '₹17,999',\n",
       "  '₹9,999'],\n",
       " 'rule_a74d': ['₹29,999',\n",
       "  '₹29,999',\n",
       "  '₹29,999',\n",
       "  '₹6,499',\n",
       "  '₹12,490',\n",
       "  '₹15,999',\n",
       "  '₹15,999',\n",
       "  '₹15,999',\n",
       "  '₹12,490',\n",
       "  '₹32,499',\n",
       "  '₹11,490',\n",
       "  '₹6,499',\n",
       "  '₹32,499',\n",
       "  '₹24,999',\n",
       "  '₹17,999',\n",
       "  '₹13,778',\n",
       "  '₹12,490',\n",
       "  '₹32,499',\n",
       "  '₹11,490',\n",
       "  '₹31,999',\n",
       "  '₹39,999',\n",
       "  '₹11,490',\n",
       "  '₹17,999',\n",
       "  '₹9,999'],\n",
       " 'rule_hvaq': ['₹29,999',\n",
       "  '₹29,999',\n",
       "  '₹29,999',\n",
       "  '₹6,499',\n",
       "  '₹12,490',\n",
       "  '₹15,999',\n",
       "  '₹15,999',\n",
       "  '₹15,999',\n",
       "  '₹12,490',\n",
       "  '₹32,499',\n",
       "  '₹11,490',\n",
       "  '₹6,499',\n",
       "  '₹32,499',\n",
       "  '₹24,999',\n",
       "  '₹17,999',\n",
       "  '₹13,778',\n",
       "  '₹12,490',\n",
       "  '₹32,499',\n",
       "  '₹11,490',\n",
       "  '₹31,999',\n",
       "  '₹39,999',\n",
       "  '₹11,490',\n",
       "  '₹17,999',\n",
       "  '₹9,999']}"
      ]
     },
     "execution_count": 6,
     "metadata": {},
     "output_type": "execute_result"
    }
   ],
   "source": [
    "## to group the data\n",
    "\n",
    "scraper.get_result_similar(flipkart_url,grouped=True)"
   ]
  },
  {
   "cell_type": "code",
   "execution_count": 8,
   "id": "13adca12",
   "metadata": {},
   "outputs": [],
   "source": [
    "##give them header and call them by there title. here the alias names are the group name from the grouped data and stored it in the different variables \n",
    "\n",
    "scraper.set_rule_aliases({'rule_xbrk':'title','rule_1k5g':'price'})\n",
    "scraper.keep_rules(['rule_xbrk','rule_1k5g'])\n",
    "scraper.save('yamini-search')"
   ]
  },
  {
   "cell_type": "code",
   "execution_count": 9,
   "id": "27163579",
   "metadata": {},
   "outputs": [],
   "source": [
    "##we have stored the product title and product price in different groups and stored in variable result\n",
    "\n",
    "result=scraper.get_result_similar(\"https://www.flipkart.com/search?q=samsung+mobiles&sid=tyy%2C4io&as=on&as-show=on&otracker=AS_QueryStore_OrganicAutoSuggest_1_3_na_na_na&otracker1=AS_QueryStore_OrganicAutoSuggest_1_3_na_na_na&as-pos=1&as-type=RECENT&suggestionId=samsung+mobiles%7CMobiles&requestId=ba15f2e1-02bf-44b5-980e-c97bed59eafa&as-backfill=onf\",group_by_alias=True)"
   ]
  },
  {
   "cell_type": "code",
   "execution_count": 10,
   "id": "c07fc222",
   "metadata": {},
   "outputs": [
    {
     "data": {
      "text/plain": [
       "['SAMSUNG Galaxy S21 FE 5G (Graphite, 128 GB)',\n",
       " 'SAMSUNG Galaxy F04 (Opal Green, 64 GB)',\n",
       " 'SAMSUNG Galaxy F14 5G (B.A.E. Purple, 128 GB)',\n",
       " 'Samsung Galaxy S21 FE 5G with Snapdragon 888 (Graphite, 128 GB)',\n",
       " 'Samsung Galaxy S21 FE 5G with Snapdragon 888 (Olive, 128 GB)',\n",
       " 'SAMSUNG Galaxy S21 FE 5G (Lavender, 128 GB)',\n",
       " 'Samsung Galaxy S21 FE 5G with Snapdragon 888 (Lavender, 128 GB)',\n",
       " 'Samsung Galaxy S21 FE 5G with Snapdragon 888 (Navy, 128 GB)',\n",
       " 'SAMSUNG Galaxy F14 5G (OMG Black, 128 GB)',\n",
       " 'SAMSUNG Galaxy F14 5G (B.A.E. Purple, 128 GB)',\n",
       " 'SAMSUNG Galaxy F04 (Jade Purple, 64 GB)',\n",
       " 'SAMSUNG Galaxy F34 5G (Electric Black, 128 GB)',\n",
       " 'SAMSUNG Galaxy F34 5G (Mystic Green, 128 GB)',\n",
       " 'SAMSUNG Galaxy F13 (Waterfall Blue, 128 GB)',\n",
       " 'SAMSUNG Galaxy F14 5G (GOAT Green, 128 GB)',\n",
       " 'SAMSUNG Galaxy M14 5G (Smoky Teal, 128 GB)',\n",
       " 'SAMSUNG Galaxy F14 5G (OMG Black, 128 GB)',\n",
       " 'SAMSUNG Galaxy F34 5G (Orchid Violet, 128 GB)',\n",
       " 'SAMSUNG Galaxy F13 (Waterfall Blue, 64 GB)',\n",
       " 'SAMSUNG Galaxy F34 5G (Mystic Green, 128 GB)',\n",
       " 'SAMSUNG Galaxy F14 5G (GOAT Green, 128 GB)',\n",
       " 'SAMSUNG Galaxy S22 5G (Green, 128 GB)',\n",
       " 'SAMSUNG Galaxy A34 5G (Awesome Violet, 256 GB)',\n",
       " 'SAMSUNG Galaxy F54 5G (Stardust Silver, 256 GB)']"
      ]
     },
     "execution_count": 10,
     "metadata": {},
     "output_type": "execute_result"
    }
   ],
   "source": [
    "## it will only print the product title\n",
    "result['title']"
   ]
  },
  {
   "cell_type": "code",
   "execution_count": 11,
   "id": "23d36575",
   "metadata": {},
   "outputs": [
    {
     "data": {
      "text/plain": [
       "['₹29,999',\n",
       " '₹6,499',\n",
       " '₹12,490',\n",
       " '₹32,499',\n",
       " '₹32,499',\n",
       " '₹29,999',\n",
       " '₹32,499',\n",
       " '₹31,999',\n",
       " '₹12,490',\n",
       " '₹11,490',\n",
       " '₹6,499',\n",
       " '₹15,999',\n",
       " '₹15,999',\n",
       " '₹9,999',\n",
       " '₹12,490',\n",
       " '₹13,778',\n",
       " '₹11,490',\n",
       " '₹15,999',\n",
       " '₹8,999',\n",
       " '₹17,999',\n",
       " '₹11,490',\n",
       " '₹39,999',\n",
       " '₹29,999',\n",
       " '₹24,999']"
      ]
     },
     "execution_count": 11,
     "metadata": {},
     "output_type": "execute_result"
    }
   ],
   "source": [
    "##it will print the product price only \n",
    "result['price']"
   ]
  },
  {
   "cell_type": "code",
   "execution_count": 12,
   "id": "ebaa7d72",
   "metadata": {},
   "outputs": [],
   "source": [
    "#we have saved the title in df1 \n",
    "df1=result['title']"
   ]
  },
  {
   "cell_type": "code",
   "execution_count": 13,
   "id": "7768c86e",
   "metadata": {},
   "outputs": [],
   "source": [
    "#we have saved the price in df2\n",
    "df2=result['price']"
   ]
  },
  {
   "cell_type": "code",
   "execution_count": 14,
   "id": "9d2fa9a4",
   "metadata": {},
   "outputs": [],
   "source": [
    "#using the pandas library we have converted the list into a dataframe by usin the pandas library\n",
    "import pandas as pd\n",
    "data1= pd.DataFrame(df1)\n",
    "data2= pd.DataFrame(df2)"
   ]
  },
  {
   "cell_type": "code",
   "execution_count": 15,
   "id": "9a31f7d4",
   "metadata": {},
   "outputs": [],
   "source": [
    "#we have given the name to both the data frames \n",
    "new_column_names1 = {0: 'produt_name'}\n",
    "data1.rename(columns=new_column_names1, inplace=True)\n",
    "\n",
    "new_column_names2 = {0: 'produt_price'}\n",
    "data2.rename(columns=new_column_names2, inplace=True)\n",
    "\n",
    "\n"
   ]
  },
  {
   "cell_type": "code",
   "execution_count": 16,
   "id": "3abe71a2",
   "metadata": {},
   "outputs": [
    {
     "data": {
      "text/html": [
       "<div>\n",
       "<style scoped>\n",
       "    .dataframe tbody tr th:only-of-type {\n",
       "        vertical-align: middle;\n",
       "    }\n",
       "\n",
       "    .dataframe tbody tr th {\n",
       "        vertical-align: top;\n",
       "    }\n",
       "\n",
       "    .dataframe thead th {\n",
       "        text-align: right;\n",
       "    }\n",
       "</style>\n",
       "<table border=\"1\" class=\"dataframe\">\n",
       "  <thead>\n",
       "    <tr style=\"text-align: right;\">\n",
       "      <th></th>\n",
       "      <th>produt_name</th>\n",
       "      <th>produt_price</th>\n",
       "    </tr>\n",
       "  </thead>\n",
       "  <tbody>\n",
       "    <tr>\n",
       "      <th>0</th>\n",
       "      <td>SAMSUNG Galaxy S21 FE 5G (Graphite, 128 GB)</td>\n",
       "      <td>₹29,999</td>\n",
       "    </tr>\n",
       "    <tr>\n",
       "      <th>1</th>\n",
       "      <td>SAMSUNG Galaxy F04 (Opal Green, 64 GB)</td>\n",
       "      <td>₹6,499</td>\n",
       "    </tr>\n",
       "    <tr>\n",
       "      <th>2</th>\n",
       "      <td>SAMSUNG Galaxy F14 5G (B.A.E. Purple, 128 GB)</td>\n",
       "      <td>₹12,490</td>\n",
       "    </tr>\n",
       "    <tr>\n",
       "      <th>3</th>\n",
       "      <td>Samsung Galaxy S21 FE 5G with Snapdragon 888 (...</td>\n",
       "      <td>₹32,499</td>\n",
       "    </tr>\n",
       "    <tr>\n",
       "      <th>4</th>\n",
       "      <td>Samsung Galaxy S21 FE 5G with Snapdragon 888 (...</td>\n",
       "      <td>₹32,499</td>\n",
       "    </tr>\n",
       "    <tr>\n",
       "      <th>5</th>\n",
       "      <td>SAMSUNG Galaxy S21 FE 5G (Lavender, 128 GB)</td>\n",
       "      <td>₹29,999</td>\n",
       "    </tr>\n",
       "    <tr>\n",
       "      <th>6</th>\n",
       "      <td>Samsung Galaxy S21 FE 5G with Snapdragon 888 (...</td>\n",
       "      <td>₹32,499</td>\n",
       "    </tr>\n",
       "    <tr>\n",
       "      <th>7</th>\n",
       "      <td>Samsung Galaxy S21 FE 5G with Snapdragon 888 (...</td>\n",
       "      <td>₹31,999</td>\n",
       "    </tr>\n",
       "    <tr>\n",
       "      <th>8</th>\n",
       "      <td>SAMSUNG Galaxy F14 5G (OMG Black, 128 GB)</td>\n",
       "      <td>₹12,490</td>\n",
       "    </tr>\n",
       "    <tr>\n",
       "      <th>9</th>\n",
       "      <td>SAMSUNG Galaxy F14 5G (B.A.E. Purple, 128 GB)</td>\n",
       "      <td>₹11,490</td>\n",
       "    </tr>\n",
       "    <tr>\n",
       "      <th>10</th>\n",
       "      <td>SAMSUNG Galaxy F04 (Jade Purple, 64 GB)</td>\n",
       "      <td>₹6,499</td>\n",
       "    </tr>\n",
       "    <tr>\n",
       "      <th>11</th>\n",
       "      <td>SAMSUNG Galaxy F34 5G (Electric Black, 128 GB)</td>\n",
       "      <td>₹15,999</td>\n",
       "    </tr>\n",
       "    <tr>\n",
       "      <th>12</th>\n",
       "      <td>SAMSUNG Galaxy F34 5G (Mystic Green, 128 GB)</td>\n",
       "      <td>₹15,999</td>\n",
       "    </tr>\n",
       "    <tr>\n",
       "      <th>13</th>\n",
       "      <td>SAMSUNG Galaxy F13 (Waterfall Blue, 128 GB)</td>\n",
       "      <td>₹9,999</td>\n",
       "    </tr>\n",
       "    <tr>\n",
       "      <th>14</th>\n",
       "      <td>SAMSUNG Galaxy F14 5G (GOAT Green, 128 GB)</td>\n",
       "      <td>₹12,490</td>\n",
       "    </tr>\n",
       "    <tr>\n",
       "      <th>15</th>\n",
       "      <td>SAMSUNG Galaxy M14 5G (Smoky Teal, 128 GB)</td>\n",
       "      <td>₹13,778</td>\n",
       "    </tr>\n",
       "    <tr>\n",
       "      <th>16</th>\n",
       "      <td>SAMSUNG Galaxy F14 5G (OMG Black, 128 GB)</td>\n",
       "      <td>₹11,490</td>\n",
       "    </tr>\n",
       "    <tr>\n",
       "      <th>17</th>\n",
       "      <td>SAMSUNG Galaxy F34 5G (Orchid Violet, 128 GB)</td>\n",
       "      <td>₹15,999</td>\n",
       "    </tr>\n",
       "    <tr>\n",
       "      <th>18</th>\n",
       "      <td>SAMSUNG Galaxy F13 (Waterfall Blue, 64 GB)</td>\n",
       "      <td>₹8,999</td>\n",
       "    </tr>\n",
       "    <tr>\n",
       "      <th>19</th>\n",
       "      <td>SAMSUNG Galaxy F34 5G (Mystic Green, 128 GB)</td>\n",
       "      <td>₹17,999</td>\n",
       "    </tr>\n",
       "    <tr>\n",
       "      <th>20</th>\n",
       "      <td>SAMSUNG Galaxy F14 5G (GOAT Green, 128 GB)</td>\n",
       "      <td>₹11,490</td>\n",
       "    </tr>\n",
       "    <tr>\n",
       "      <th>21</th>\n",
       "      <td>SAMSUNG Galaxy S22 5G (Green, 128 GB)</td>\n",
       "      <td>₹39,999</td>\n",
       "    </tr>\n",
       "    <tr>\n",
       "      <th>22</th>\n",
       "      <td>SAMSUNG Galaxy A34 5G (Awesome Violet, 256 GB)</td>\n",
       "      <td>₹29,999</td>\n",
       "    </tr>\n",
       "    <tr>\n",
       "      <th>23</th>\n",
       "      <td>SAMSUNG Galaxy F54 5G (Stardust Silver, 256 GB)</td>\n",
       "      <td>₹24,999</td>\n",
       "    </tr>\n",
       "  </tbody>\n",
       "</table>\n",
       "</div>"
      ],
      "text/plain": [
       "                                          produt_name produt_price\n",
       "0         SAMSUNG Galaxy S21 FE 5G (Graphite, 128 GB)      ₹29,999\n",
       "1              SAMSUNG Galaxy F04 (Opal Green, 64 GB)       ₹6,499\n",
       "2       SAMSUNG Galaxy F14 5G (B.A.E. Purple, 128 GB)      ₹12,490\n",
       "3   Samsung Galaxy S21 FE 5G with Snapdragon 888 (...      ₹32,499\n",
       "4   Samsung Galaxy S21 FE 5G with Snapdragon 888 (...      ₹32,499\n",
       "5         SAMSUNG Galaxy S21 FE 5G (Lavender, 128 GB)      ₹29,999\n",
       "6   Samsung Galaxy S21 FE 5G with Snapdragon 888 (...      ₹32,499\n",
       "7   Samsung Galaxy S21 FE 5G with Snapdragon 888 (...      ₹31,999\n",
       "8           SAMSUNG Galaxy F14 5G (OMG Black, 128 GB)      ₹12,490\n",
       "9       SAMSUNG Galaxy F14 5G (B.A.E. Purple, 128 GB)      ₹11,490\n",
       "10            SAMSUNG Galaxy F04 (Jade Purple, 64 GB)       ₹6,499\n",
       "11     SAMSUNG Galaxy F34 5G (Electric Black, 128 GB)      ₹15,999\n",
       "12       SAMSUNG Galaxy F34 5G (Mystic Green, 128 GB)      ₹15,999\n",
       "13        SAMSUNG Galaxy F13 (Waterfall Blue, 128 GB)       ₹9,999\n",
       "14         SAMSUNG Galaxy F14 5G (GOAT Green, 128 GB)      ₹12,490\n",
       "15         SAMSUNG Galaxy M14 5G (Smoky Teal, 128 GB)      ₹13,778\n",
       "16          SAMSUNG Galaxy F14 5G (OMG Black, 128 GB)      ₹11,490\n",
       "17      SAMSUNG Galaxy F34 5G (Orchid Violet, 128 GB)      ₹15,999\n",
       "18         SAMSUNG Galaxy F13 (Waterfall Blue, 64 GB)       ₹8,999\n",
       "19       SAMSUNG Galaxy F34 5G (Mystic Green, 128 GB)      ₹17,999\n",
       "20         SAMSUNG Galaxy F14 5G (GOAT Green, 128 GB)      ₹11,490\n",
       "21              SAMSUNG Galaxy S22 5G (Green, 128 GB)      ₹39,999\n",
       "22     SAMSUNG Galaxy A34 5G (Awesome Violet, 256 GB)      ₹29,999\n",
       "23    SAMSUNG Galaxy F54 5G (Stardust Silver, 256 GB)      ₹24,999"
      ]
     },
     "execution_count": 16,
     "metadata": {},
     "output_type": "execute_result"
    }
   ],
   "source": [
    "#we have merged two dataframes to make a proper table we can even the drop the index but here we have kept it as it is\n",
    "concatenated_df = pd.concat([data1, data2], axis=1)\n",
    "concatenated_df"
   ]
  },
  {
   "cell_type": "code",
   "execution_count": 17,
   "id": "9a4e318f",
   "metadata": {},
   "outputs": [
    {
     "data": {
      "text/plain": [
       "produt_name     0\n",
       "produt_price    0\n",
       "dtype: int64"
      ]
     },
     "execution_count": 17,
     "metadata": {},
     "output_type": "execute_result"
    }
   ],
   "source": [
    "# checking the null values\n",
    "concatenated_df.isna().sum()"
   ]
  },
  {
   "cell_type": "code",
   "execution_count": 18,
   "id": "740979e8",
   "metadata": {},
   "outputs": [
    {
     "data": {
      "text/plain": [
       "produt_name     24\n",
       "produt_price    24\n",
       "dtype: int64"
      ]
     },
     "execution_count": 18,
     "metadata": {},
     "output_type": "execute_result"
    }
   ],
   "source": [
    "#checking the count of the data \n",
    "concatenated_df.count()"
   ]
  },
  {
   "cell_type": "code",
   "execution_count": 19,
   "id": "ce4486ea",
   "metadata": {},
   "outputs": [
    {
     "data": {
      "text/plain": [
       "produt_name     object\n",
       "produt_price    object\n",
       "dtype: object"
      ]
     },
     "execution_count": 19,
     "metadata": {},
     "output_type": "execute_result"
    }
   ],
   "source": [
    "#checking the datatype of the data\n",
    "concatenated_df.dtypes"
   ]
  },
  {
   "cell_type": "code",
   "execution_count": 29,
   "id": "31738579",
   "metadata": {},
   "outputs": [],
   "source": [
    "#changing the datatypes\n",
    "concatenated_df['produt_name']=concatenated_df['produt_name'].astype(str)\n"
   ]
  },
  {
   "cell_type": "code",
   "execution_count": 35,
   "id": "f82f73ea",
   "metadata": {},
   "outputs": [],
   "source": [
    "#to change the datatype of price, first we have to remove the regular expression to format it. then we have converted the price into the numeric data\n",
    "concatenated_df['produt_price'] = concatenated_df['produt_price'].str.replace(r'\\d', '', regex=False)\n",
    "\n",
    "concatenated_df['produt_price'] = pd.to_numeric(concatenated_df['produt_price'], errors='coerce', downcast='integer')"
   ]
  },
  {
   "cell_type": "code",
   "execution_count": 36,
   "id": "6b6fa5f5",
   "metadata": {},
   "outputs": [
    {
     "data": {
      "text/html": [
       "<div>\n",
       "<style scoped>\n",
       "    .dataframe tbody tr th:only-of-type {\n",
       "        vertical-align: middle;\n",
       "    }\n",
       "\n",
       "    .dataframe tbody tr th {\n",
       "        vertical-align: top;\n",
       "    }\n",
       "\n",
       "    .dataframe thead th {\n",
       "        text-align: right;\n",
       "    }\n",
       "</style>\n",
       "<table border=\"1\" class=\"dataframe\">\n",
       "  <thead>\n",
       "    <tr style=\"text-align: right;\">\n",
       "      <th></th>\n",
       "      <th>produt_name</th>\n",
       "      <th>produt_price</th>\n",
       "      <th>Produt_price</th>\n",
       "    </tr>\n",
       "  </thead>\n",
       "  <tbody>\n",
       "    <tr>\n",
       "      <th>0</th>\n",
       "      <td>SAMSUNG Galaxy S21 FE 5G (Graphite, 128 GB)</td>\n",
       "      <td>NaN</td>\n",
       "      <td>29999</td>\n",
       "    </tr>\n",
       "    <tr>\n",
       "      <th>1</th>\n",
       "      <td>SAMSUNG Galaxy F04 (Opal Green, 64 GB)</td>\n",
       "      <td>NaN</td>\n",
       "      <td>6499</td>\n",
       "    </tr>\n",
       "    <tr>\n",
       "      <th>2</th>\n",
       "      <td>SAMSUNG Galaxy F14 5G (B.A.E. Purple, 128 GB)</td>\n",
       "      <td>NaN</td>\n",
       "      <td>12490</td>\n",
       "    </tr>\n",
       "    <tr>\n",
       "      <th>3</th>\n",
       "      <td>Samsung Galaxy S21 FE 5G with Snapdragon 888 (...</td>\n",
       "      <td>NaN</td>\n",
       "      <td>32499</td>\n",
       "    </tr>\n",
       "    <tr>\n",
       "      <th>4</th>\n",
       "      <td>Samsung Galaxy S21 FE 5G with Snapdragon 888 (...</td>\n",
       "      <td>NaN</td>\n",
       "      <td>32499</td>\n",
       "    </tr>\n",
       "  </tbody>\n",
       "</table>\n",
       "</div>"
      ],
      "text/plain": [
       "                                         produt_name  produt_price  \\\n",
       "0        SAMSUNG Galaxy S21 FE 5G (Graphite, 128 GB)           NaN   \n",
       "1             SAMSUNG Galaxy F04 (Opal Green, 64 GB)           NaN   \n",
       "2      SAMSUNG Galaxy F14 5G (B.A.E. Purple, 128 GB)           NaN   \n",
       "3  Samsung Galaxy S21 FE 5G with Snapdragon 888 (...           NaN   \n",
       "4  Samsung Galaxy S21 FE 5G with Snapdragon 888 (...           NaN   \n",
       "\n",
       "   Produt_price  \n",
       "0         29999  \n",
       "1          6499  \n",
       "2         12490  \n",
       "3         32499  \n",
       "4         32499  "
      ]
     },
     "execution_count": 36,
     "metadata": {},
     "output_type": "execute_result"
    }
   ],
   "source": [
    "#as we can see that there are two column named as product_price\n",
    "concatenated_df.head()"
   ]
  },
  {
   "cell_type": "code",
   "execution_count": 37,
   "id": "dc9a7bd2",
   "metadata": {},
   "outputs": [
    {
     "name": "stdout",
     "output_type": "stream",
     "text": [
      "<class 'pandas.core.frame.DataFrame'>\n",
      "RangeIndex: 24 entries, 0 to 23\n",
      "Data columns (total 3 columns):\n",
      " #   Column        Non-Null Count  Dtype  \n",
      "---  ------        --------------  -----  \n",
      " 0   produt_name   24 non-null     object \n",
      " 1   produt_price  0 non-null      float64\n",
      " 2   Produt_price  24 non-null     int32  \n",
      "dtypes: float64(1), int32(1), object(1)\n",
      "memory usage: 608.0+ bytes\n"
     ]
    }
   ],
   "source": [
    "# we can see that the product_price column is  null\n",
    "concatenated_df.info()"
   ]
  },
  {
   "cell_type": "code",
   "execution_count": 38,
   "id": "28777c03",
   "metadata": {},
   "outputs": [],
   "source": [
    "# here we dropped the column with the null values so we can get the proper tables withh the proper datatypes\n",
    "concatenated_df = concatenated_df.dropna(axis=1, how='all')"
   ]
  },
  {
   "cell_type": "code",
   "execution_count": 39,
   "id": "38cba9b0",
   "metadata": {},
   "outputs": [
    {
     "data": {
      "text/html": [
       "<div>\n",
       "<style scoped>\n",
       "    .dataframe tbody tr th:only-of-type {\n",
       "        vertical-align: middle;\n",
       "    }\n",
       "\n",
       "    .dataframe tbody tr th {\n",
       "        vertical-align: top;\n",
       "    }\n",
       "\n",
       "    .dataframe thead th {\n",
       "        text-align: right;\n",
       "    }\n",
       "</style>\n",
       "<table border=\"1\" class=\"dataframe\">\n",
       "  <thead>\n",
       "    <tr style=\"text-align: right;\">\n",
       "      <th></th>\n",
       "      <th>produt_name</th>\n",
       "      <th>Produt_price</th>\n",
       "    </tr>\n",
       "  </thead>\n",
       "  <tbody>\n",
       "    <tr>\n",
       "      <th>0</th>\n",
       "      <td>SAMSUNG Galaxy S21 FE 5G (Graphite, 128 GB)</td>\n",
       "      <td>29999</td>\n",
       "    </tr>\n",
       "    <tr>\n",
       "      <th>1</th>\n",
       "      <td>SAMSUNG Galaxy F04 (Opal Green, 64 GB)</td>\n",
       "      <td>6499</td>\n",
       "    </tr>\n",
       "    <tr>\n",
       "      <th>2</th>\n",
       "      <td>SAMSUNG Galaxy F14 5G (B.A.E. Purple, 128 GB)</td>\n",
       "      <td>12490</td>\n",
       "    </tr>\n",
       "    <tr>\n",
       "      <th>3</th>\n",
       "      <td>Samsung Galaxy S21 FE 5G with Snapdragon 888 (...</td>\n",
       "      <td>32499</td>\n",
       "    </tr>\n",
       "    <tr>\n",
       "      <th>4</th>\n",
       "      <td>Samsung Galaxy S21 FE 5G with Snapdragon 888 (...</td>\n",
       "      <td>32499</td>\n",
       "    </tr>\n",
       "  </tbody>\n",
       "</table>\n",
       "</div>"
      ],
      "text/plain": [
       "                                         produt_name  Produt_price\n",
       "0        SAMSUNG Galaxy S21 FE 5G (Graphite, 128 GB)         29999\n",
       "1             SAMSUNG Galaxy F04 (Opal Green, 64 GB)          6499\n",
       "2      SAMSUNG Galaxy F14 5G (B.A.E. Purple, 128 GB)         12490\n",
       "3  Samsung Galaxy S21 FE 5G with Snapdragon 888 (...         32499\n",
       "4  Samsung Galaxy S21 FE 5G with Snapdragon 888 (...         32499"
      ]
     },
     "execution_count": 39,
     "metadata": {},
     "output_type": "execute_result"
    }
   ],
   "source": [
    "concatenated_df.head()"
   ]
  },
  {
   "cell_type": "code",
   "execution_count": 41,
   "id": "e3db7c4f",
   "metadata": {},
   "outputs": [
    {
     "data": {
      "text/plain": [
       "produt_name     object\n",
       "Produt_price     int32\n",
       "dtype: object"
      ]
     },
     "execution_count": 41,
     "metadata": {},
     "output_type": "execute_result"
    }
   ],
   "source": [
    "# we have successfully changed the datatype of the data. object datatype is similar to the string datatype \n",
    "concatenated_df.dtypes"
   ]
  },
  {
   "cell_type": "code",
   "execution_count": 40,
   "id": "f7bfd02a",
   "metadata": {},
   "outputs": [
    {
     "data": {
      "text/html": [
       "<div>\n",
       "<style scoped>\n",
       "    .dataframe tbody tr th:only-of-type {\n",
       "        vertical-align: middle;\n",
       "    }\n",
       "\n",
       "    .dataframe tbody tr th {\n",
       "        vertical-align: top;\n",
       "    }\n",
       "\n",
       "    .dataframe thead th {\n",
       "        text-align: right;\n",
       "    }\n",
       "</style>\n",
       "<table border=\"1\" class=\"dataframe\">\n",
       "  <thead>\n",
       "    <tr style=\"text-align: right;\">\n",
       "      <th></th>\n",
       "      <th>Produt_price</th>\n",
       "    </tr>\n",
       "  </thead>\n",
       "  <tbody>\n",
       "    <tr>\n",
       "      <th>count</th>\n",
       "      <td>24.000000</td>\n",
       "    </tr>\n",
       "    <tr>\n",
       "      <th>mean</th>\n",
       "      <td>19508.375000</td>\n",
       "    </tr>\n",
       "    <tr>\n",
       "      <th>std</th>\n",
       "      <td>10203.448304</td>\n",
       "    </tr>\n",
       "    <tr>\n",
       "      <th>min</th>\n",
       "      <td>6499.000000</td>\n",
       "    </tr>\n",
       "    <tr>\n",
       "      <th>25%</th>\n",
       "      <td>11490.000000</td>\n",
       "    </tr>\n",
       "    <tr>\n",
       "      <th>50%</th>\n",
       "      <td>15999.000000</td>\n",
       "    </tr>\n",
       "    <tr>\n",
       "      <th>75%</th>\n",
       "      <td>29999.000000</td>\n",
       "    </tr>\n",
       "    <tr>\n",
       "      <th>max</th>\n",
       "      <td>39999.000000</td>\n",
       "    </tr>\n",
       "  </tbody>\n",
       "</table>\n",
       "</div>"
      ],
      "text/plain": [
       "       Produt_price\n",
       "count     24.000000\n",
       "mean   19508.375000\n",
       "std    10203.448304\n",
       "min     6499.000000\n",
       "25%    11490.000000\n",
       "50%    15999.000000\n",
       "75%    29999.000000\n",
       "max    39999.000000"
      ]
     },
     "execution_count": 40,
     "metadata": {},
     "output_type": "execute_result"
    }
   ],
   "source": [
    "concatenated_df.describe()"
   ]
  },
  {
   "cell_type": "code",
   "execution_count": null,
   "id": "e5be151c",
   "metadata": {},
   "outputs": [],
   "source": []
  },
  {
   "cell_type": "code",
   "execution_count": null,
   "id": "13d86e41",
   "metadata": {},
   "outputs": [],
   "source": []
  }
 ],
 "metadata": {
  "kernelspec": {
   "display_name": "Python 3 (ipykernel)",
   "language": "python",
   "name": "python3"
  },
  "language_info": {
   "codemirror_mode": {
    "name": "ipython",
    "version": 3
   },
   "file_extension": ".py",
   "mimetype": "text/x-python",
   "name": "python",
   "nbconvert_exporter": "python",
   "pygments_lexer": "ipython3",
   "version": "3.10.9"
  }
 },
 "nbformat": 4,
 "nbformat_minor": 5
}
